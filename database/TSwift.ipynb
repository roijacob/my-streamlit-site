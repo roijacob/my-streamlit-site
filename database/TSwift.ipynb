{
 "cells": [
  {
   "cell_type": "code",
   "execution_count": 2,
   "metadata": {},
   "outputs": [],
   "source": [
    "# Import the sqlite3 library\n",
    "import sqlite3"
   ]
  },
  {
   "cell_type": "code",
   "execution_count": 4,
   "metadata": {},
   "outputs": [],
   "source": [
    "# Connect to the database (it will be created if it doesn't exist)\n",
    "connection = sqlite3.connect('taylor_swift.db')"
   ]
  },
  {
   "cell_type": "code",
   "execution_count": 5,
   "metadata": {},
   "outputs": [],
   "source": [
    "# Create a cursor object using the cursor method of the connection\n",
    "cursor = connection.cursor()"
   ]
  },
  {
   "cell_type": "code",
   "execution_count": 7,
   "metadata": {},
   "outputs": [
    {
     "data": {
      "text/plain": [
       "<sqlite3.Cursor at 0x161bdd7f640>"
      ]
     },
     "execution_count": 7,
     "metadata": {},
     "output_type": "execute_result"
    }
   ],
   "source": [
    "cursor.execute('''\n",
    "CREATE TABLE ts_albums (\n",
    "    album_type VARCHAR(50),\n",
    "    artist_id VARCHAR(50),\n",
    "    artist_name VARCHAR(50),\n",
    "    artist_type VARCHAR(50),\n",
    "    available_markets_count INT,\n",
    "    c_copyright TEXT,\n",
    "    p_copyright TEXT,\n",
    "    external_id BIGINT,\n",
    "    genres_count INT,\n",
    "    album_id VARCHAR(50),\n",
    "    image_url_640 TEXT,\n",
    "    image_url_300 TEXT,\n",
    "    image_url_64 TEXT,\n",
    "    label VARCHAR(50),\n",
    "    name VARCHAR(255),\n",
    "    popularity INT,\n",
    "    release_date DATE,\n",
    "    release_date_precision VARCHAR(50),\n",
    "    total_tracks INT,\n",
    "    type VARCHAR(50)\n",
    ");\n",
    "''')"
   ]
  },
  {
   "cell_type": "code",
   "execution_count": 8,
   "metadata": {},
   "outputs": [
    {
     "data": {
      "text/plain": [
       "<sqlite3.Cursor at 0x161bdd7f640>"
      ]
     },
     "execution_count": 8,
     "metadata": {},
     "output_type": "execute_result"
    }
   ],
   "source": [
    "cursor.execute('''\n",
    "CREATE TABLE ts_tracks (\n",
    "    Album_id VARCHAR(22),\n",
    "    Album_name VARCHAR(255),\n",
    "    Album_type VARCHAR(10),\n",
    "    len_available_markets INT,\n",
    "    disc_number INT,\n",
    "    duration_ms INT,\n",
    "    explicit BOOLEAN,\n",
    "    external_id_isrc VARCHAR(15),\n",
    "    id VARCHAR(22) PRIMARY KEY,\n",
    "    is_local BOOLEAN,\n",
    "    name VARCHAR(255),\n",
    "    popularity INT,\n",
    "    preview_url VARCHAR(255),\n",
    "    track_number INT,\n",
    "    type VARCHAR(10),\n",
    "    artist_id_1 VARCHAR(22),\n",
    "    artist_name_1 VARCHAR(255),\n",
    "    artist_type_1 VARCHAR(10),\n",
    "    artist_id_2 VARCHAR(22),\n",
    "    artist_name_2 VARCHAR(255),\n",
    "    artist_type_2 VARCHAR(10),\n",
    "    artist_id_3 VARCHAR(22),\n",
    "    artist_name_3 VARCHAR(255),\n",
    "    artist_type_3 VARCHAR(10)\n",
    ");\n",
    "''')"
   ]
  },
  {
   "cell_type": "code",
   "execution_count": 9,
   "metadata": {},
   "outputs": [
    {
     "data": {
      "text/plain": [
       "<sqlite3.Cursor at 0x161bdd7f640>"
      ]
     },
     "execution_count": 9,
     "metadata": {},
     "output_type": "execute_result"
    }
   ],
   "source": [
    "cursor.execute('''\n",
    "CREATE TABLE ts_audio_feats (\n",
    "    danceability real,\n",
    "    energy real,\n",
    "    key smallint,\n",
    "    loudness real,\n",
    "    mode smallint,\n",
    "    speechiness real,\n",
    "    acousticness real,\n",
    "    instrumentalness real,\n",
    "    liveness real,\n",
    "    valence real,\n",
    "    tempo real,\n",
    "    type text,\n",
    "    id varchar(255) PRIMARY KEY,\n",
    "    duration_ms integer,\n",
    "    time_signature smallint\n",
    ");\n",
    "''')"
   ]
  }
 ],
 "metadata": {
  "kernelspec": {
   "display_name": "streamlit-heroku",
   "language": "python",
   "name": "python3"
  },
  "language_info": {
   "codemirror_mode": {
    "name": "ipython",
    "version": 3
   },
   "file_extension": ".py",
   "mimetype": "text/x-python",
   "name": "python",
   "nbconvert_exporter": "python",
   "pygments_lexer": "ipython3",
   "version": "3.11.5"
  }
 },
 "nbformat": 4,
 "nbformat_minor": 2
}
